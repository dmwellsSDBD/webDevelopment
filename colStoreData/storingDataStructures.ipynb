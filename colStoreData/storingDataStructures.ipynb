{
 "cells": [
  {
   "cell_type": "markdown",
   "id": "67ce3b93",
   "metadata": {},
   "source": [
    "# localStorage Recap"
   ]
  },
  {
   "cell_type": "markdown",
   "id": "c2f78fc6",
   "metadata": {},
   "source": [
    "localStorage.setItem(\"key\", \"value\")  --> key/value pair\n",
    "\n",
    "Both the key and value parameters MUST BE \"strings\", so they must be contained in single or double quotes.\n",
    "\n",
    "## Saving a List\n",
    "\n",
    "Save a list of scores:\n",
    "var grades = [78, 89, 65, 91, 86];\n",
    "\n",
    "localStorage.setItem(\"grades\", grades);\n",
    "\n",
    "## Access the first grade\n",
    "\n",
    "grades[0];\n",
    "grades[3];"
   ]
  },
  {
   "cell_type": "markdown",
   "id": "7ad443da",
   "metadata": {},
   "source": [
    "# JSON.stringify() and JSON.parse()"
   ]
  },
  {
   "cell_type": "markdown",
   "id": "7bd2b892",
   "metadata": {},
   "source": [
    "var listOfScores = [20, 45, 10, 344];\n",
    "\n",
    "localStorage.setItem(\"scores\", JSON.stringify(listOfScores));\n",
    "\n",
    "In the JSON file, the list will look like: \"[20, 45, 10, 344]\"\n",
    "\n",
    "To retrieve the data from the JSON file, we use this line of JS:\n",
    "\n",
    "var resScores = JSON.parse(localStorage.getItem(\"scores\")); \n",
    "\n",
    "--> [20, 45, 10, 344]\n",
    "\n",
    "To access items in the list, use the index numbers again:\n",
    "listOfScores[2] --> the third item in the list"
   ]
  },
  {
   "cell_type": "markdown",
   "id": "a8e0c7cf",
   "metadata": {},
   "source": [
    "### When to save data in lists:"
   ]
  },
  {
   "cell_type": "markdown",
   "id": "821666f2",
   "metadata": {},
   "source": [
    "- collecting multiple iterations of an event\n",
    "    - [score1, score2, score3, ...]\n",
    "\n",
    "- multiple items of data to collect\n",
    "    - [backgroundColor, fontSize, username, password...]"
   ]
  }
 ],
 "metadata": {
  "language_info": {
   "name": "python"
  }
 },
 "nbformat": 4,
 "nbformat_minor": 5
}

{
 "cells": [
  {
   "cell_type": "markdown",
   "id": "de586821",
   "metadata": {},
   "source": [
    "# Storing Data with Local Storage"
   ]
  },
  {
   "cell_type": "markdown",
   "id": "7ed8e904",
   "metadata": {},
   "source": [
    "### 3 Main types of storage\n",
    "\n",
    "* Cookies\n",
    "* Session Storage\n",
    "* Local Storage"
   ]
  },
  {
   "cell_type": "code",
   "execution_count": null,
   "id": "c95a39db",
   "metadata": {
    "vscode": {
     "languageId": "javascript"
    }
   },
   "outputs": [],
   "source": [
    "var name = prompt(\"Enter your first name: \");\n",
    "\n",
    "/* This can be store as a key: value pair in local storage\n",
    "'name': 'David' */"
   ]
  },
  {
   "cell_type": "code",
   "execution_count": null,
   "id": "26ba352d",
   "metadata": {
    "vscode": {
     "languageId": "javascript"
    }
   },
   "outputs": [],
   "source": [
    "/* The javascript keyword to store data */\n",
    "localStorage.setItem(\"key\", \"value\");"
   ]
  },
  {
   "cell_type": "code",
   "execution_count": null,
   "id": "c15401e8",
   "metadata": {
    "vscode": {
     "languageId": "javascript"
    }
   },
   "outputs": [],
   "source": [
    "/* Retrieve and store data in a variable with Key:Value relationship */\n",
    "\n",
    "var fName = prompt(\"Enter your first name: \");\n",
    "\n",
    "localStorage.setItem(\"user\", fName);\n",
    "\n",
    "/* To retrieve the data that is stored in local storage */ \n",
    "\n",
    "// var retrieveName = localStorage.getItem(\"user\");\n",
    "var retrieveName = localStorage.user;"
   ]
  },
  {
   "cell_type": "markdown",
   "id": "f975aaea",
   "metadata": {},
   "source": [
    "### null Data Type\n",
    "\n",
    "<font color=\"red\">null</font> - an absence of data, no data exists\n",
    "\n",
    "The null data type is returned when you use getItem(key) and the data does not exist.\n",
    "\n",
    "HOWEVER, if you use getItem.key and the data does not exist, it will return:\n",
    "<b>undefined</b>"
   ]
  },
  {
   "cell_type": "markdown",
   "id": "41fe6009",
   "metadata": {},
   "source": [
    "Whether it is NULL or UNDEFINED - the expression evaluates to <b>false</b>\n",
    "\n",
    "BOTH:\n",
    "if (localStorage.getItem(\"key\")) and if(localStorage.key)\n",
    "\n",
    "will evaluate FALSE if the key doesn't exist yet!"
   ]
  },
  {
   "cell_type": "code",
   "execution_count": null,
   "id": "4379286d",
   "metadata": {
    "vscode": {
     "languageId": "javascript"
    }
   },
   "outputs": [],
   "source": []
  },
  {
   "cell_type": "markdown",
   "id": "bb1303cf",
   "metadata": {},
   "source": []
  }
 ],
 "metadata": {
  "language_info": {
   "name": "python"
  }
 },
 "nbformat": 4,
 "nbformat_minor": 5
}
